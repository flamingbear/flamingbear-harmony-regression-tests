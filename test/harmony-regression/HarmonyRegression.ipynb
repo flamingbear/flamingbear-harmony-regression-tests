{
 "cells": [
  {
   "cell_type": "markdown",
   "metadata": {},
   "source": [
    "# Harmony Regression \n",
    "This notebook provides condensed examples of using Harmony to perform specific tasks.  For more a general introduction and tutorial, see [Harmony API Introduction](./Harmony%20Api%20Introduction.ipynb) or [Harmony Feature Examples](./Harmony%20Feature%20Examples.ipynb).  Useful helpers for making the calls found in this notebook can be found under the [docs/notebook-helpers](./notebook-helpers) folder\n",
    "\n",
    "## Prerequisites\n",
    "\n",
    "1. Install Python 3.  This notebook is tested to work in 3.8 but should work in most recent 3.x versions.\n",
    "2. Install Jupyter: `pip install jupyterlab`\n",
    "3. Setup your `~/.netrc` for Earthdata Login as described in [Harmony API Introduction](./Harmony%20Api%20Introduction.ipynb)\n",
    "4. Run the following cell to install Python dependencies, import necessary modules, and set notebook defaults"
   ]
  },
  {
   "cell_type": "code",
   "execution_count": null,
   "metadata": {
    "tags": []
   },
   "outputs": [],
   "source": [
    "%load_ext autoreload\n",
    "%autoreload\n",
    "%matplotlib inline\n",
    "\n",
    "import sys\n",
    "# Install dependencies into the Jupyter Kernel\n",
    "!{sys.executable} -m pip install -q -r notebook_helpers/requirements.txt\n",
    "\n",
    "# Import libraries used throughout the notebook\n",
    "from notebook_helpers import get, post, show, get_data_urls, show_async, show_async_condensed, show_shape, print_async_status, check_bbox_subset, check_stac"
   ]
  },
  {
   "cell_type": "markdown",
   "metadata": {},
   "source": [
    "## Set environment and coverages root"
   ]
  },
  {
   "cell_type": "code",
   "execution_count": null,
   "metadata": {},
   "outputs": [],
   "source": [
    "harmony_host_url = 'https://harmony.uat.earthdata.nasa.gov'\n",
    "\n",
    "# if environment == 'sit':\n",
    "#     root = 'https://harmony.sit.earthdata.nasa.gov'\n",
    "# elif environment == 'uat':\n",
    "#     root = 'https://harmony.uat.earthdata.nasa.gov'\n",
    "# elif environment == 'prod':\n",
    "#     root = 'https://harmony.earthdata.nasa.gov'"
   ]
  },
  {
   "cell_type": "markdown",
   "metadata": {},
   "source": [
    "## Example Data\n",
    "\n",
    "Harmony has produced example collections with artificial data but realistic structure to allow testing our services.  We have L3 and L2 NetCDF4 collections, and a shapefile collection."
   ]
  },
  {
   "cell_type": "code",
   "execution_count": null,
   "metadata": {},
   "outputs": [],
   "source": [
    "coverages_root = '{root}/{collection}/ogc-api-coverages/1.0.0/collections/{variable}/coverage/rangeset'\n",
    "\n",
    "l3_collection = 'C1234088182-EEDTEST'\n",
    "l2_collection = 'C1233860183-EEDTEST'\n",
    "shapefile_collection = 'C1234530533-EEDTEST'\n",
    "example_vars = ['red_var', 'green_var', 'blue_var', 'alpha_var']"
   ]
  },
  {
   "cell_type": "markdown",
   "metadata": {},
   "source": [
    "### Sample Sync Request - Bounding Box and Temporal Subsetting with Reformatting"
   ]
  },
  {
   "cell_type": "code",
   "execution_count": null,
   "metadata": {
    "tags": []
   },
   "outputs": [],
   "source": [
    "#By default, this reformats to tiff\n",
    "params = {\n",
    "    'subset': [\n",
    "        'lon(-20:90)', \n",
    "        'lat(0:60)', \n",
    "        'time(\"2020-01-15T00:00:00Z\":\"2020-01-15T01:00:00Z\")']\n",
    "}\n",
    "response = get(\n",
    "    coverages_root.format(\n",
    "        root=harmony_host_url,\n",
    "        collection=l3_collection, \n",
    "        variable='all'), \n",
    "    params=params)\n",
    "\n",
    "show(response, example_vars)"
   ]
  },
  {
   "cell_type": "markdown",
   "metadata": {},
   "source": [
    "### Sample Sync Request - Variable Subsetting"
   ]
  },
  {
   "cell_type": "code",
   "execution_count": null,
   "metadata": {
    "tags": []
   },
   "outputs": [],
   "source": [
    "response = get(\n",
    "    coverages_root.format(\n",
    "        root=harmony_host_url,\n",
    "        collection=l3_collection, \n",
    "        variable='green_var'), \n",
    "    params=params)\n",
    "\n",
    "show(response, color_index=1)"
   ]
  },
  {
   "cell_type": "markdown",
   "metadata": {},
   "source": [
    "## Asynchronous Requests"
   ]
  },
  {
   "cell_type": "code",
   "execution_count": null,
   "metadata": {
    "tags": []
   },
   "outputs": [],
   "source": [
    "response = get(\n",
    "    coverages_root.format(\n",
    "        root=harmony_host_url,\n",
    "        collection=l3_collection, \n",
    "        variable='all'), \n",
    "    params={\n",
    "        'subset': [\n",
    "            'lon(-20:90)', \n",
    "            'lat(0:60)', \n",
    "            'time(\"2020-01-01T00:00:00Z\":\"2020-01-05T01:00:00Z\")']})\n",
    "show_async_condensed(response)"
   ]
  },
  {
   "cell_type": "markdown",
   "metadata": {},
   "source": [
    "## Cancel Async Requests"
   ]
  },
  {
   "cell_type": "code",
   "execution_count": null,
   "metadata": {
    "tags": []
   },
   "outputs": [],
   "source": [
    "#Add 3 requests\n",
    "response1 = get(coverages_root.format(root=harmony_host_url, collection=l3_collection, variable='all'), params={'format': 'image/tiff', 'maxResults': '20'})\n",
    "response2 = get(coverages_root.format(root=harmony_host_url, collection=l3_collection, variable='all'), params={'format': 'image/tiff', 'maxResults': '20'})\n",
    "response3 = get(coverages_root.format(root=harmony_host_url, collection=l3_collection, variable='all'), params={'format': 'image/tiff', 'maxResults': '20'})\n",
    "\n",
    "#List the requests\n",
    "\n",
    "jobs_root = '{root}/jobs'\n",
    "my_jobs = jobs_root.format(root=harmony_host_url)\n",
    "response = get(my_jobs,params={'page': '1','limit': '10'})\n",
    "body = response.json()\n",
    "\n",
    "for job in body['jobs']:\n",
    "    print_async_status(job)\n",
    "\n",
    "#Cancel one\n",
    "my_jobs_cancel_root=my_jobs+'/{job_id}/cancel'\n",
    "response = post(my_jobs_cancel_root.format(job_id=response3.json()['jobID']))\n",
    "\n",
    "print_async_status(response.json())\n",
    "\n",
    "assert response.json()['status'] == 'canceled'\n"
   ]
  },
  {
   "cell_type": "markdown",
   "metadata": {},
   "source": [
    "# Basic Tests with Backend Services"
   ]
  },
  {
   "cell_type": "markdown",
   "metadata": {},
   "source": [
    "### Shapefile Subsetting"
   ]
  },
  {
   "cell_type": "markdown",
   "metadata": {},
   "source": [
    "#### PO.DAAC's Shapefile Subsetter "
   ]
  },
  {
   "cell_type": "code",
   "execution_count": null,
   "metadata": {
    "tags": []
   },
   "outputs": [],
   "source": [
    "show_shape('zip://./notebook_helpers/test_in-polygon.shp.zip')\n",
    "show(get('https://harmony.uat.earthdata.nasa.gov/service-results/harmony-uat-staging/public/shapefile_example/shapefile_r_001_249_20090109T000000.shp.zip'))"
   ]
  },
  {
   "cell_type": "code",
   "execution_count": null,
   "metadata": {
    "tags": []
   },
   "outputs": [],
   "source": [
    "response = post(\n",
    "    coverages_root.format(\n",
    "        root=harmony_host_url,\n",
    "        collection=shapefile_collection, \n",
    "        variable='all'), \n",
    "    data={ 'subset': 'time(\"2009-01-09T00:00:00Z\":\"2009-01-09T01:00:00Z\")' },\n",
    "    files={ 'shapefile': ('test_in-polygon.shp.zip', open('./notebook_helpers/test_in-polygon.shp.zip', 'rb'), 'application/shapefile+zip') }\n",
    ")\n",
    "\n",
    "try:\n",
    "    show(response)\n",
    "except:\n",
    "    print(response.text)\n"
   ]
  },
  {
   "cell_type": "markdown",
   "metadata": {},
   "source": [
    "### Zarr Reformatter"
   ]
  },
  {
   "cell_type": "code",
   "execution_count": null,
   "metadata": {
    "tags": []
   },
   "outputs": [],
   "source": [
    "response = get(\n",
    "    coverages_root.format(\n",
    "        root=harmony_host_url,\n",
    "        collection=l3_collection, \n",
    "        variable='all'), \n",
    "    params={\n",
    "        'subset': 'time(\"2020-01-15T00:00:00Z\":\"2020-01-16T01:00:00Z\")',\n",
    "        'maxResults': '3'\n",
    "        },\n",
    "    headers = {'accept': 'application/x-zarr'})\n",
    "\n",
    "zarr_response = show_async(response)"
   ]
  },
  {
   "cell_type": "markdown",
   "metadata": {},
   "source": [
    "### SWOT Reprojection Tool"
   ]
  },
  {
   "cell_type": "code",
   "execution_count": null,
   "metadata": {
    "tags": []
   },
   "outputs": [],
   "source": [
    "#Shows original test data for easy visual comparison\n",
    "response = get('https://harmony.uat.earthdata.nasa.gov/service-results/harmony-uat-staging/public/harmony_example_l2/nc/015_02_210_europe.nc')\n",
    "show(response, example_vars)"
   ]
  },
  {
   "cell_type": "markdown",
   "metadata": {},
   "source": [
    "#### SWOT Reprojection Tool (Sync)"
   ]
  },
  {
   "cell_type": "code",
   "execution_count": null,
   "metadata": {
    "tags": []
   },
   "outputs": [],
   "source": [
    "response = get(\n",
    "    coverages_root.format(\n",
    "        root=harmony_host_url,\n",
    "        collection=l2_collection, \n",
    "        variable='all'), \n",
    "    params={\n",
    "        'outputCrs': 'EPSG:4326',\n",
    "        'subset': 'time(\"2020-01-15T16:00:00Z\":\"2020-01-15T17:00:00Z\")'})\n",
    "show(response, example_vars)"
   ]
  },
  {
   "cell_type": "code",
   "execution_count": null,
   "metadata": {
    "tags": []
   },
   "outputs": [],
   "source": [
    "response = get(\n",
    "    coverages_root.format(\n",
    "        root=harmony_host_url,\n",
    "        collection=l2_collection, \n",
    "        variable='all'), \n",
    "    params={\n",
    "        'outputCrs': '+proj=lcc +lat_1=43 +lat_2=62 +lat_0=30 +lon_0=10 +x_0=0 +y_0=0 +ellps=intl +units=m +no_defs',\n",
    "        'interpolation': 'near',\n",
    "        'scaleExtent': '-4000000,-1000000,5000000,7000000',\n",
    "        'subset': 'time(\"2020-01-15T16:00:00Z\":\"2020-01-15T17:00:00Z\")'})\n",
    "\n",
    "show(response, example_vars)"
   ]
  },
  {
   "cell_type": "markdown",
   "metadata": {},
   "source": [
    "#### SWOT Reprojection Tool (Async)\n",
    "\n",
    "Broken based on HARMONY-590"
   ]
  },
  {
   "cell_type": "code",
   "execution_count": null,
   "metadata": {
    "tags": []
   },
   "outputs": [],
   "source": [
    "\n",
    "response = get(\n",
    "    coverages_root.format(\n",
    "        root=harmony_host_url,\n",
    "        collection=l2_collection, \n",
    "        variable='all'), \n",
    "    params={\n",
    "        'outputCrs': '+proj=lcc +lat_1=43 +lat_2=62 +lat_0=30 +lon_0=10 +x_0=0 +y_0=0 +ellps=intl +units=m +no_defs',\n",
    "        'interpolation': 'near',\n",
    "        'scaleExtent': '-7000000,-1000000,8000000,8000000',\n",
    "        'maxResults': '3'})\n",
    "\n",
    "show_async_condensed(response, example_vars)\n"
   ]
  },
  {
   "cell_type": "markdown",
   "metadata": {},
   "source": [
    "### PODAAC L2 Subsetter"
   ]
  },
  {
   "cell_type": "markdown",
   "metadata": {},
   "source": [
    "#### PODAAC L2 Subsetter (Sync)"
   ]
  },
  {
   "cell_type": "code",
   "execution_count": null,
   "metadata": {
    "tags": []
   },
   "outputs": [],
   "source": [
    "response = get(\n",
    "    coverages_root.format(\n",
    "        root=harmony_host_url,\n",
    "        collection='C1234208438-POCLOUD', \n",
    "        variable='all'), \n",
    "    params={\n",
    "        'granuleid':'G1236649866-POCLOUD',\n",
    "        'subset': [\n",
    "            'lon(-160:160)', \n",
    "            'lat(-80:80)'\n",
    "            ]})\n",
    "show(response, ['ssha'])\n",
    "#check_bbox_subset(response, -80, 80, -160, 160)"
   ]
  },
  {
   "cell_type": "markdown",
   "metadata": {},
   "source": [
    "#### PODAAC L2 Subsetter (Async)"
   ]
  },
  {
   "cell_type": "code",
   "execution_count": null,
   "metadata": {
    "tags": []
   },
   "outputs": [],
   "source": [
    "response = get(\n",
    "    coverages_root.format(\n",
    "        root=harmony_host_url,\n",
    "        collection='C1234208438-POCLOUD', \n",
    "        variable='all'), \n",
    "    params={\n",
    "        'format': 'application/x-netcdf4',\n",
    "        'subset': [\n",
    "            'lon(-160:160)', \n",
    "            'lat(-80:80)',\n",
    "             'time(\"2012-03-03T00:00:00Z\":\"2012-03-03T02:59:59Z\")'\n",
    "            ]})\n",
    "show_async_condensed(response, ['ssha'])"
   ]
  },
  {
   "cell_type": "markdown",
   "metadata": {},
   "source": [
    "### SDS Variable Subsetter"
   ]
  },
  {
   "cell_type": "markdown",
   "metadata": {},
   "source": [
    "#### SDS Variable Subsetter (Sync)"
   ]
  },
  {
   "cell_type": "code",
   "execution_count": null,
   "metadata": {
    "tags": []
   },
   "outputs": [],
   "source": [
    "\n",
    "response = get(\n",
    "    coverages_root.format(\n",
    "        root=harmony_host_url,\n",
    "        collection='C1234714698-EEDTEST', \n",
    "        variable='%2Fgt1l%2Fland_segments%2Fcanopy%2Fh_canopy'), \n",
    "    params={\n",
    "        'granuleid':'G1238479514-EEDTEST'\n",
    "    })\n",
    "\n",
    "show(response, ['/gt1l/land_segments/canopy/h_canopy'])\n"
   ]
  },
  {
   "cell_type": "markdown",
   "metadata": {},
   "source": [
    "#### SDS Variable Subsetter (Async)\n",
    "\n",
    "Broken based on HARMONY-591"
   ]
  },
  {
   "cell_type": "code",
   "execution_count": null,
   "metadata": {
    "tags": []
   },
   "outputs": [],
   "source": [
    "\n",
    "response = get(\n",
    "    coverages_root.format(\n",
    "        root=harmony_host_url,\n",
    "        collection='C1234714698-EEDTEST', \n",
    "        variable='%2Fgt1l%2Fland_segments%2Fcanopy%2Fh_canopy'), \n",
    "        params={'maxResults': '3'})\n",
    "\n",
    "show_async_condensed(response, ['/gt1l/land_segments/canopy/h_canopy'])"
   ]
  },
  {
   "cell_type": "markdown",
   "metadata": {},
   "source": [
    "### ASF's GDAL Subsetter"
   ]
  },
  {
   "cell_type": "markdown",
   "metadata": {},
   "source": [
    "#### ASF's GDAL Subsetter (Sync)"
   ]
  },
  {
   "cell_type": "code",
   "execution_count": null,
   "metadata": {
    "tags": []
   },
   "outputs": [],
   "source": [
    "response = get(\n",
    "    coverages_root.format(\n",
    "        root=harmony_host_url,\n",
    "        collection='C1225776654-ASF',\n",
    "        variable='science%2Fgrids%2Fdata%2Famplitude'), \n",
    "        params={\n",
    "            'granuleId' : 'G1235282694-ASF',\n",
    "            'subset': [\n",
    "            'lon(37:40)', \n",
    "            'lat(23:24)', \n",
    "            'time(\"2014-10-30T15:00:00Z\":\"2014-10-30T15:59:00Z\")']})\n",
    "            \n",
    "show(response)\n"
   ]
  },
  {
   "cell_type": "markdown",
   "metadata": {},
   "source": [
    "#### ASF's GDAL Subsetter (Async)"
   ]
  },
  {
   "cell_type": "code",
   "execution_count": null,
   "metadata": {
    "tags": []
   },
   "outputs": [],
   "source": [
    "response = get(\n",
    "    coverages_root.format(\n",
    "        root=harmony_host_url,\n",
    "        collection='C1225776654-ASF',\n",
    "        variable='science%2Fgrids%2Fdata%2Famplitude'), \n",
    "        params={\n",
    "            'subset': [\n",
    "            'lon(37:40)', \n",
    "            'lat(23:24)', \n",
    "            'time(\"2014-10-30T15:00:00Z\":\"2014-10-30T15:59:00Z\")']})\n",
    "            \n",
    "show_async_condensed(response)"
   ]
  },
  {
   "cell_type": "markdown",
   "metadata": {},
   "source": [
    "_Minimizing time to science_"
   ]
  }
 ],
 "metadata": {
  "file_extension": ".py",
  "kernelspec": {
   "display_name": "Python 3",
   "language": "python",
   "name": "python3"
  },
  "language_info": {
   "codemirror_mode": {
    "name": "ipython",
    "version": 3
   },
   "file_extension": ".py",
   "mimetype": "text/x-python",
   "name": "python",
   "nbconvert_exporter": "python",
   "pygments_lexer": "ipython3",
   "version": "3.7.5"
  },
  "mimetype": "text/x-python",
  "name": "python",
  "npconvert_exporter": "python",
  "pygments_lexer": "ipython3",
  "version": 3
 },
 "nbformat": 4,
 "nbformat_minor": 4
}
