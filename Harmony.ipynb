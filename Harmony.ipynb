{
 "cells": [
  {
   "cell_type": "markdown",
   "metadata": {},
   "source": [
    "![Image](NASA_logo.svg)"
   ]
  },
  {
   "cell_type": "markdown",
   "metadata": {},
   "source": [
    "# Harmony Regression Test Suite"
   ]
  },
  {
   "cell_type": "code",
   "execution_count": 34,
   "metadata": {
    "tags": [
     "parameters"
    ]
   },
   "outputs": [],
   "source": [
    "# ['sbx', 'sit', 'uat', 'prod']\n",
    "environment = 'uat'"
   ]
  },
  {
   "cell_type": "code",
   "execution_count": 35,
   "metadata": {},
   "outputs": [
    {
     "name": "stdout",
     "output_type": "stream",
     "text": [
      "Testing the uat environment: harmony.uat.earthdata.nasa.gov\n"
     ]
    }
   ],
   "source": [
    "harmony_hostname = {\n",
    "    'sbx': 'harmony.sbx.earthdata.nasa.gov',\n",
    "    'sit': 'harmony.sit.earthdata.nasa.gov',\n",
    "    'uat': 'harmony.uat.earthdata.nasa.gov',\n",
    "    'prod': 'harmony.earthdata.nasa.gov'\n",
    "}[environment]\n",
    "\n",
    "print(f'Testing the {environment} environment: {harmony_hostname}')"
   ]
  },
  {
   "cell_type": "code",
   "execution_count": 36,
   "metadata": {},
   "outputs": [],
   "source": [
    "import requests\n",
    "\n",
    "import ipytest\n",
    "ipytest.autoconfig()"
   ]
  },
  {
   "cell_type": "code",
   "execution_count": 37,
   "metadata": {},
   "outputs": [],
   "source": [
    "def url(uri: str) -> str:\n",
    "    return f'https://{harmony_hostname}/{uri}'\n",
    "\n",
    "def find_by_attr(l: list, attr: str, val: str) -> str:\n",
    "    for i in l:\n",
    "        if i[attr] == val:\n",
    "            return i"
   ]
  },
  {
   "cell_type": "code",
   "execution_count": 38,
   "metadata": {},
   "outputs": [
    {
     "name": "stdout",
     "output_type": "stream",
     "text": [
      ".                                                                                                                                                                              [100%]\n",
      "1 passed in 0.50s\n"
     ]
    }
   ],
   "source": [
    "%%run_pytest[clean]\n",
    "\n",
    "# Example test\n",
    "def test_services_are_configured_in_harmony():\n",
    "    services = [\n",
    "        'harmony/gdal', \n",
    "        'asfdataservices/gdal-subsetter', \n",
    "        'podaac/l2-subsetter'\n",
    "    ]\n",
    "    \n",
    "    versions = requests.get(url('versions')).json()\n",
    "    \n",
    "    for s in services:\n",
    "        assert find_by_attr(versions, 'name', s) is not None"
   ]
  },
  {
   "cell_type": "code",
   "execution_count": null,
   "metadata": {},
   "outputs": [],
   "source": []
  }
 ],
 "metadata": {
  "kernelspec": {
   "display_name": "Python 3",
   "language": "python",
   "name": "python3"
  },
  "language_info": {
   "codemirror_mode": {
    "name": "ipython",
    "version": 3
   },
   "file_extension": ".py",
   "mimetype": "text/x-python",
   "name": "python",
   "nbconvert_exporter": "python",
   "pygments_lexer": "ipython3",
   "version": "3.8.2"
  }
 },
 "nbformat": 4,
 "nbformat_minor": 4
}
